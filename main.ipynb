{
 "cells": [
  {
   "cell_type": "code",
   "execution_count": 1,
   "metadata": {},
   "outputs": [],
   "source": [
    "import numpy as np\n",
    "import torch\n",
    "import scipy\n",
    "import pandas as pd\n",
    "import matplotlib.pyplot as plt\n",
    "from icp import ICP_ROT\n",
    "from nc_score import pose_err\n",
    "from tqdm import tqdm\n",
    "import tools\n",
    "import rpmg\n",
    "import argparse\n",
    "from dataset.CameraPoseDataset import CameraPoseDatasetPred\n",
    "from rpr import find_poses"
   ]
  },
  {
   "cell_type": "code",
   "execution_count": 2,
   "metadata": {},
   "outputs": [],
   "source": [
    "dataset_path = '/home/runyi/Data/7Scenes'\n",
    "cal_labels_file = '/home/runyi/Project/TBCP6D/dataset/7Scenes_0.5/abs_7scenes_pose.csv_chess_cal.csv_results.csv'\n",
    "test_labels_file = '/home/runyi/Project/TBCP6D/dataset/7Scenes_0.5/abs_7scenes_pose.csv_chess_test.csv_results.csv'\n",
    "cal_set = CameraPoseDatasetPred(dataset_path, cal_labels_file)\n",
    "test_set = CameraPoseDatasetPred(dataset_path, test_labels_file)"
   ]
  },
  {
   "cell_type": "code",
   "execution_count": 3,
   "metadata": {},
   "outputs": [
    {
     "data": {
      "text/plain": [
       "((2417, 7), (2417, 7))"
      ]
     },
     "execution_count": 3,
     "metadata": {},
     "output_type": "execute_result"
    }
   ],
   "source": [
    "cal_set.poses.shape, cal_set.pred_poses.shape"
   ]
  },
  {
   "cell_type": "code",
   "execution_count": 4,
   "metadata": {},
   "outputs": [],
   "source": [
    "icp_rot = ICP_ROT(torch.tensor(cal_set.poses[:, 3:]), torch.tensor(cal_set.pred_poses[:, 3:]))"
   ]
  },
  {
   "cell_type": "code",
   "execution_count": 5,
   "metadata": {},
   "outputs": [],
   "source": [
    "dataloader = torch.utils.data.DataLoader(test_set, batch_size=1, shuffle=False, num_workers=1)"
   ]
  },
  {
   "cell_type": "code",
   "execution_count": 20,
   "metadata": {},
   "outputs": [
    {
     "name": "stderr",
     "output_type": "stream",
     "text": [
      "0it [00:00, ?it/s]"
     ]
    },
    {
     "name": "stderr",
     "output_type": "stream",
     "text": [
      "0it [00:00, ?it/s]\n"
     ]
    },
    {
     "ename": "TypeError",
     "evalue": "'tuple' object is not callable",
     "output_type": "error",
     "traceback": [
      "\u001b[0;31m---------------------------------------------------------------------------\u001b[0m",
      "\u001b[0;31mTypeError\u001b[0m                                 Traceback (most recent call last)",
      "Cell \u001b[0;32mIn[20], line 18\u001b[0m\n\u001b[1;32m     16\u001b[0m cal_dis_pose \u001b[38;5;241m=\u001b[39m torch\u001b[38;5;241m.\u001b[39mcat((t_cal_dis, tools\u001b[38;5;241m.\u001b[39mcompute_quaternions_from_rotation_matrices(R_cal_dis)), dim\u001b[38;5;241m=\u001b[39m\u001b[38;5;241m1\u001b[39m)\n\u001b[1;32m     17\u001b[0m cal_gt_pose \u001b[38;5;241m=\u001b[39m torch\u001b[38;5;241m.\u001b[39mtensor(cal_set\u001b[38;5;241m.\u001b[39mposes[idx])\u001b[38;5;241m.\u001b[39munsqueeze(\u001b[38;5;241m0\u001b[39m)\u001b[38;5;241m.\u001b[39mcuda()\n\u001b[0;32m---> 18\u001b[0m posit_err, orient_err\u001b[38;5;241m=\u001b[39m \u001b[43mpose_err\u001b[49m\u001b[43m(\u001b[49m\u001b[43mcal_dis_pose\u001b[49m\u001b[43m,\u001b[49m\u001b[43m \u001b[49m\u001b[43mcal_gt_pose\u001b[49m\u001b[43m)\u001b[49m\n",
      "\u001b[0;31mTypeError\u001b[0m: 'tuple' object is not callable"
     ]
    }
   ],
   "source": [
    "for idx, minibatch in enumerate(dataloader):\n",
    "    img = minibatch.get('img')[0].numpy()\n",
    "    pred_pose = minibatch.get('est_pose')\n",
    "    pred_R = tools.compute_rotation_matrix_from_quaternion(pred_pose[:, 3:])\n",
    "    pred_t = pred_pose[:, :3]\n",
    "    # Get pred pose from R and t\n",
    "    pred_pose_ = np.zeros((4,4))\n",
    "    pred_pose_[:3, :3] = pred_R[0]\n",
    "    pred_pose_[:3, 3] = pred_t[0]\n",
    "    pred_pose_[3, 3] = 1\n",
    "    for idx, cal_img in tqdm(enumerate(cal_set.imgs)):\n",
    "        relative_pose = find_poses(img, cal_img)\n",
    "        cal_dis_pose = torch.tensor(np.linalg.inv(pred_pose_) @ relative_pose).unsqueeze(0).cuda()\n",
    "        R_cal_dis = cal_dis_pose[:, :3, :3]\n",
    "        t_cal_dis = cal_dis_pose[:, :3, 3]\n",
    "        cal_dis_pose = torch.cat((t_cal_dis, tools.compute_quaternions_from_rotation_matrices(R_cal_dis)), dim=1)\n",
    "        cal_gt_pose = torch.tensor(cal_set.poses[idx]).unsqueeze(0).cuda()\n",
    "        posit_err, orient_err= pose_err(cal_dis_pose, cal_gt_pose)\n",
    "        "
   ]
  },
  {
   "cell_type": "code",
   "execution_count": null,
   "metadata": {},
   "outputs": [
    {
     "data": {
      "text/plain": [
       "'/home/runyi/Data/7Scenes/chess/seq-01/frame-000000.color.png'"
      ]
     },
     "execution_count": 7,
     "metadata": {},
     "output_type": "execute_result"
    }
   ],
   "source": [
    "cal_set.img_paths[0]"
   ]
  },
  {
   "cell_type": "code",
   "execution_count": null,
   "metadata": {},
   "outputs": [
    {
     "data": {
      "text/plain": [
       "'/home/runyi/Data/7Scenes/chess/seq-03/frame-000000.color.png'"
      ]
     },
     "execution_count": 8,
     "metadata": {},
     "output_type": "execute_result"
    }
   ],
   "source": [
    "test_set.img_paths[0]"
   ]
  },
  {
   "cell_type": "code",
   "execution_count": null,
   "metadata": {},
   "outputs": [],
   "source": []
  }
 ],
 "metadata": {
  "kernelspec": {
   "display_name": "CP6D",
   "language": "python",
   "name": "python3"
  },
  "language_info": {
   "codemirror_mode": {
    "name": "ipython",
    "version": 3
   },
   "file_extension": ".py",
   "mimetype": "text/x-python",
   "name": "python",
   "nbconvert_exporter": "python",
   "pygments_lexer": "ipython3",
   "version": "3.10.13"
  }
 },
 "nbformat": 4,
 "nbformat_minor": 2
}
