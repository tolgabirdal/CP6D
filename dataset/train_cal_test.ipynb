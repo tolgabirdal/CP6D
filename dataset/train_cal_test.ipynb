{
 "cells": [
  {
   "cell_type": "code",
   "execution_count": 1,
   "id": "acfdebae-3951-412c-8647-d3cd9d413bdb",
   "metadata": {},
   "outputs": [
    {
     "name": "stderr",
     "output_type": "stream",
     "text": [
      "/tmp/ipykernel_27085/2162656668.py:1: DeprecationWarning: \n",
      "Pyarrow will become a required dependency of pandas in the next major release of pandas (pandas 3.0),\n",
      "(to allow more performant data types, such as the Arrow string type, and better interoperability with other libraries)\n",
      "but was not found to be installed on your system.\n",
      "If this would cause problems for you,\n",
      "please provide us feedback at https://github.com/pandas-dev/pandas/issues/54466\n",
      "        \n",
      "  import pandas as pd\n"
     ]
    }
   ],
   "source": [
    "import pandas as pd\n",
    "import numpy as np"
   ]
  },
  {
   "cell_type": "code",
   "execution_count": 2,
   "id": "411f3733-d971-424e-ad18-24a689564ac3",
   "metadata": {},
   "outputs": [],
   "source": [
    "all_scenes_df = pd.read_csv('/home/runyi/Project/CP6D/dataset/7Scenes_0.5/7scenes_all_scenes.csv_results.csv')\n",
    "subset_df = pd.read_csv('/home/runyi/Project/CP6D/dataset/7Scenes_0.5/7scenes_all_scenes.csv_0.5_subset.csv')"
   ]
  },
  {
   "cell_type": "code",
   "execution_count": 3,
   "id": "601f593a-198b-4e81-98da-70d730998f37",
   "metadata": {},
   "outputs": [
    {
     "data": {
      "text/plain": [
       "(26000,)"
      ]
     },
     "execution_count": 3,
     "metadata": {},
     "output_type": "execute_result"
    }
   ],
   "source": [
    "all_scenes_df['img_path'].unique().shape"
   ]
  },
  {
   "cell_type": "code",
   "execution_count": 5,
   "id": "f2ac638c-3744-40b0-82d9-b194e2bdce71",
   "metadata": {},
   "outputs": [],
   "source": [
    "train_df = all_scenes_df[all_scenes_df['img_path'].isin(subset_df['img_path'])]\n",
    "cal_df = all_scenes_df[~all_scenes_df['img_path'].isin(subset_df['img_path'])]"
   ]
  },
  {
   "cell_type": "code",
   "execution_count": 9,
   "id": "c626eb84-079c-45d8-8824-3d7bb5f09f11",
   "metadata": {},
   "outputs": [],
   "source": [
    "scenes_grouped = train_df.groupby('scene')\n",
    "\n",
    "# Optionally, create separate dataframes for each scene\n",
    "scenes_dfs = {scene: data.copy() for scene, data in scenes_grouped}\n",
    "\n",
    "# For example, to access the dataframe for a specific scene 'chess'\n",
    "for scene, df in scenes_dfs.items():\n",
    "    df.to_csv(f'/home/runyi/Project/CP6D/dataset/7Scenes_0.5/abs_7scenes_pose.csv_{scene}_train.csv_results.csv', index=False)"
   ]
  },
  {
   "cell_type": "code",
   "execution_count": 10,
   "id": "244e641a",
   "metadata": {},
   "outputs": [],
   "source": [
    "scenes_grouped = cal_df.groupby('scene')\n",
    "\n",
    "# Optionally, create separate dataframes for each scene\n",
    "scenes_dfs = {scene: data.copy() for scene, data in scenes_grouped}\n",
    "\n",
    "# For example, to access the dataframe for a specific scene 'chess'\n",
    "for scene, df in scenes_dfs.items():\n",
    "    df.to_csv(f'/home/runyi/Project/CP6D/dataset/7Scenes_0.5/abs_7scenes_pose.csv_{scene}_cal.csv_results.csv', index=False)"
   ]
  },
  {
   "cell_type": "code",
   "execution_count": null,
   "id": "2eabcbf8",
   "metadata": {},
   "outputs": [],
   "source": []
  }
 ],
 "metadata": {
  "kernelspec": {
   "display_name": "Python 3 (ipykernel)",
   "language": "python",
   "name": "python3"
  },
  "language_info": {
   "codemirror_mode": {
    "name": "ipython",
    "version": 3
   },
   "file_extension": ".py",
   "mimetype": "text/x-python",
   "name": "python",
   "nbconvert_exporter": "python",
   "pygments_lexer": "ipython3",
   "version": "3.9.18"
  }
 },
 "nbformat": 4,
 "nbformat_minor": 5
}
