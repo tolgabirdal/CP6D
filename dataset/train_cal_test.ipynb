{
 "cells": [
  {
   "cell_type": "code",
   "execution_count": 1,
   "id": "acfdebae-3951-412c-8647-d3cd9d413bdb",
   "metadata": {},
   "outputs": [],
   "source": [
    "import pandas as pd\n",
    "import numpy as np"
   ]
  },
  {
   "cell_type": "code",
   "execution_count": 7,
   "id": "411f3733-d971-424e-ad18-24a689564ac3",
   "metadata": {},
   "outputs": [],
   "source": [
    "all_scenes_df = pd.read_csv('/home/runyi/Project/TBCP6D/dataset/CambridgeLandmarks_0.7/cambridge_four_scenes.csv_results.csv')\n",
    "subset_df = pd.read_csv('/home/runyi/Project/TBCP6D/dataset/CambridgeLandmarks_0.7/cambridge_four_scenes.csv_0.7_subset.csv')"
   ]
  },
  {
   "cell_type": "code",
   "execution_count": 8,
   "id": "601f593a-198b-4e81-98da-70d730998f37",
   "metadata": {},
   "outputs": [
    {
     "data": {
      "text/plain": [
       "(3833,)"
      ]
     },
     "execution_count": 8,
     "metadata": {},
     "output_type": "execute_result"
    }
   ],
   "source": [
    "all_scenes_df['img_path'].unique().shape"
   ]
  },
  {
   "cell_type": "code",
   "execution_count": 9,
   "id": "f2ac638c-3744-40b0-82d9-b194e2bdce71",
   "metadata": {},
   "outputs": [],
   "source": [
    "train_df = all_scenes_df[all_scenes_df['img_path'].isin(subset_df['img_path'])]\n",
    "cal_df = all_scenes_df[~all_scenes_df['img_path'].isin(subset_df['img_path'])]"
   ]
  },
  {
   "cell_type": "code",
   "execution_count": 10,
   "id": "c626eb84-079c-45d8-8824-3d7bb5f09f11",
   "metadata": {},
   "outputs": [],
   "source": [
    "scenes_grouped = train_df.groupby('scene')\n",
    "\n",
    "# Optionally, create separate dataframes for each scene\n",
    "scenes_dfs = {scene: data.copy() for scene, data in scenes_grouped}\n",
    "\n",
    "# For example, to access the dataframe for a specific scene 'chess'\n",
    "for scene, df in scenes_dfs.items():\n",
    "    df.to_csv(f'/home/runyi/Project/TBCP6D/dataset/CambridgeLandmarks_0.7/abs_cambridge_pose_sorted.csv_{scene}_train.csv_results.csv', index=False)"
   ]
  },
  {
   "cell_type": "code",
   "execution_count": 11,
   "id": "244e641a",
   "metadata": {},
   "outputs": [],
   "source": [
    "scenes_grouped = cal_df.groupby('scene')\n",
    "\n",
    "# Optionally, create separate dataframes for each scene\n",
    "scenes_dfs = {scene: data.copy() for scene, data in scenes_grouped}\n",
    "\n",
    "# For example, to access the dataframe for a specific scene 'chess'\n",
    "for scene, df in scenes_dfs.items():\n",
    "    df.to_csv(f'/home/runyi/Project/TBCP6D/dataset/CambridgeLandmarks_0.7/abs_cambridge_pose_sorted.csv_{scene}_cal.csv_results.csv', index=False)"
   ]
  },
  {
   "cell_type": "code",
   "execution_count": 2,
   "id": "2eabcbf8",
   "metadata": {},
   "outputs": [],
   "source": [
    "import pandas as pd\n",
    "cambridge_df = pd.read_csv('/home/runyi/Project/TBCP6D/dataset/CambridgeLandmarks/cambridge_four_scenes.csv')"
   ]
  },
  {
   "cell_type": "code",
   "execution_count": 5,
   "id": "077f6cd2",
   "metadata": {},
   "outputs": [],
   "source": [
    "# Randomly sample 70% of the dataset\n",
    "sample_70 = cambridge_df.sample(frac=0.7, random_state=42)\n",
    "\n",
    "# Randomly sample 50% of the dataset\n",
    "sample_50 = cambridge_df.sample(frac=0.5, random_state=42)"
   ]
  },
  {
   "cell_type": "code",
   "execution_count": 9,
   "id": "c7e1de00",
   "metadata": {},
   "outputs": [],
   "source": [
    "sample_50.to_csv('/home/runyi/Project/TBCP6D/dataset/CambridgeLandmarks/cambridge_four_scenes.csv_0.5_subset.csv', index=False)"
   ]
  },
  {
   "cell_type": "code",
   "execution_count": 10,
   "id": "5151194f",
   "metadata": {},
   "outputs": [],
   "source": [
    "sample_70.to_csv('/home/runyi/Project/TBCP6D/dataset/CambridgeLandmarks/cambridge_four_scenes.csv_0.7_subset.csv', index=False)"
   ]
  },
  {
   "cell_type": "code",
   "execution_count": 2,
   "id": "60845872",
   "metadata": {},
   "outputs": [],
   "source": [
    "import pandas as pd\n",
    "\n",
    "# Load the calibration and test datasets\n",
    "sns = ['chess', 'fire', 'heads', 'office', 'pumpkin', 'redkitchen', 'stairs']\n",
    "for sn in sns:\n",
    "    calib_path = '/home/runyi/Project/TBCP6D/dataset/7Scenes_0.7/abs_7scenes_pose.csv_'+sn+'_cal.csv_results.csv'\n",
    "    test_path = '/home/runyi/Project/TBCP6D/dataset/7Scenes_0.7/abs_7scenes_pose.csv_'+sn+'_test.csv_results.csv'\n",
    "\n",
    "    calib_data = pd.read_csv(calib_path)\n",
    "    test_data = pd.read_csv(test_path)\n",
    "\n",
    "    # Combine the datasets\n",
    "    combined_data = pd.concat([calib_data, test_data], ignore_index=True)\n",
    "\n",
    "    # Original number of test samples\n",
    "    original_test_samples_count = test_data.shape[0]\n",
    "\n",
    "    # Shuffle the combined dataset to ensure random distribution before splitting\n",
    "    combined_data_shuffled = combined_data.sample(frac=1, random_state=42).reset_index(drop=True)\n",
    "\n",
    "    # Splitting the datasets while keeping the test size unchanged\n",
    "    new_test_data = combined_data_shuffled.iloc[:original_test_samples_count]\n",
    "    new_calib_data = combined_data_shuffled.iloc[original_test_samples_count:]\n",
    "\n",
    "    # This was used to confirm the sizes, ensuring the test count remains unchanged\n",
    "    new_calib_data_path = '/home/runyi/Project/TBCP6D/dataset/7Scenes_0.7_new/abs_7scenes_pose.csv_'+sn+'_cal.csv_results.csv'\n",
    "    new_test_data_path = '/home/runyi/Project/TBCP6D/dataset/7Scenes_0.7_new/abs_7scenes_pose.csv_'+sn+'_test.csv_results.csv'\n",
    "\n",
    "    new_calib_data.to_csv(new_calib_data_path, index=False)\n",
    "    new_test_data.to_csv(new_test_data_path, index=False)\n",
    "\n"
   ]
  },
  {
   "cell_type": "code",
   "execution_count": null,
   "id": "86958612",
   "metadata": {},
   "outputs": [],
   "source": []
  }
 ],
 "metadata": {
  "kernelspec": {
   "display_name": "Python 3 (ipykernel)",
   "language": "python",
   "name": "python3"
  },
  "language_info": {
   "codemirror_mode": {
    "name": "ipython",
    "version": 3
   },
   "file_extension": ".py",
   "mimetype": "text/x-python",
   "name": "python",
   "nbconvert_exporter": "python",
   "pygments_lexer": "ipython3",
   "version": "3.10.13"
  }
 },
 "nbformat": 4,
 "nbformat_minor": 5
}
